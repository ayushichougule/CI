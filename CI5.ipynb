{
 "cells": [
  {
   "cell_type": "code",
   "execution_count": 2,
   "id": "37930160-8741-4870-99e4-1d375ec10c49",
   "metadata": {},
   "outputs": [
    {
     "name": "stdout",
     "output_type": "stream",
     "text": [
      "Best path: [4, 5, 6, 3, 1, 0, 2, 4]\n",
      "Best cost: 34\n"
     ]
    }
   ],
   "source": [
    "import numpy as np\n",
    "\n",
    "# Distance matrix between cities (symmetric)\n",
    "cities = np.array([\n",
    "    [0, 2, 9, 10, 7, 14, 11],\n",
    "    [1, 0, 6, 4, 12, 8, 10],\n",
    "    [15, 7, 0, 8, 6, 9, 13],\n",
    "    [6, 3, 12, 0, 9, 11, 5],\n",
    "    [7, 12, 6, 9, 0, 4, 8],\n",
    "    [14, 8, 9, 11, 4, 0, 6],\n",
    "    [11, 10, 13, 5, 8, 6, 0]\n",
    "])\n",
    "\n",
    "num_ants = 10\n",
    "num_iterations = 100\n",
    "decay = 0.1\n",
    "alpha = 1     # pheromone importance\n",
    "beta = 2      # distance importance\n",
    "\n",
    "num_cities = cities.shape[0]\n",
    "pheromone = np.ones((num_cities, num_cities)) / num_cities\n",
    "best_cost = float('inf')\n",
    "best_path = None\n",
    "\n",
    "def route_distance(route):\n",
    "    dist = 0\n",
    "    for i in range(len(route)):\n",
    "        dist += cities[route[i - 1], route[i]]\n",
    "    return dist\n",
    "\n",
    "def select_next_city(probabilities):\n",
    "    return np.random.choice(range(len(probabilities)), p=probabilities)\n",
    "\n",
    "for iteration in range(num_iterations):\n",
    "    all_routes = []\n",
    "    all_distances = []\n",
    "\n",
    "    for ant in range(num_ants):\n",
    "        visited = []\n",
    "        current_city = np.random.randint(num_cities)\n",
    "        visited.append(current_city)\n",
    "\n",
    "        while len(visited) < num_cities:\n",
    "            unvisited = list(set(range(num_cities)) - set(visited))\n",
    "            pheromone_values = np.array([pheromone[current_city][j] for j in unvisited])\n",
    "            distances = np.array([cities[current_city][j] for j in unvisited])\n",
    "            heuristic = 1 / distances\n",
    "            prob = (pheromone_values ** alpha) * (heuristic ** beta)\n",
    "            prob /= prob.sum()\n",
    "            next_city = unvisited[select_next_city(prob)]\n",
    "            visited.append(next_city)\n",
    "            current_city = next_city\n",
    "\n",
    "        route = visited\n",
    "        distance = route_distance(route)\n",
    "        all_routes.append(route)\n",
    "        all_distances.append(distance)\n",
    "\n",
    "        if distance < best_cost:\n",
    "            best_cost = distance\n",
    "            best_path = route\n",
    "\n",
    "    # Evaporate pheromone\n",
    "    pheromone *= (1 - decay)\n",
    "\n",
    "    # Update pheromone\n",
    "    for route, dist in zip(all_routes, all_distances):\n",
    "        for i in range(num_cities):\n",
    "            a, b = route[i - 1], route[i]\n",
    "            pheromone[a][b] += 1 / dist\n",
    "\n",
    "print(\"Best path:\", best_path + [best_path[0]])\n",
    "print(\"Best cost:\", best_cost)\n"
   ]
  },
  {
   "cell_type": "code",
   "execution_count": null,
   "id": "3989152f-0f3c-4eac-815a-a1374e5263e6",
   "metadata": {},
   "outputs": [],
   "source": []
  }
 ],
 "metadata": {
  "kernelspec": {
   "display_name": "Python 3 (ipykernel)",
   "language": "python",
   "name": "python3"
  },
  "language_info": {
   "codemirror_mode": {
    "name": "ipython",
    "version": 3
   },
   "file_extension": ".py",
   "mimetype": "text/x-python",
   "name": "python",
   "nbconvert_exporter": "python",
   "pygments_lexer": "ipython3",
   "version": "3.11.4"
  }
 },
 "nbformat": 4,
 "nbformat_minor": 5
}
