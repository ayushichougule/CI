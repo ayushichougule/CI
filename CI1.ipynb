{
 "cells": [
  {
   "cell_type": "code",
   "execution_count": 2,
   "id": "91cf5f42-57fe-4b32-944d-a205ac17ee10",
   "metadata": {},
   "outputs": [
    {
     "name": "stdout",
     "output_type": "stream",
     "text": [
      "Union of A and B: [0.2 0.8 0.7 0.8]\n",
      "Intersection of A and B: [0.1 0.4 0.2 0.3]\n",
      "Complement of A: [0.8 0.6 0.3 0.2]\n",
      "Difference of A and B: [0.1 0.  0.5 0.5]\n",
      "Cartesian product of A and B:\n",
      "[[0.02 0.16 0.04 0.06]\n",
      " [0.04 0.32 0.08 0.12]\n",
      " [0.07 0.56 0.14 0.21]\n",
      " [0.08 0.64 0.16 0.24]]\n",
      "Cartesian product of B and A:\n",
      "[[0.02 0.04 0.07 0.08]\n",
      " [0.16 0.32 0.56 0.64]\n",
      " [0.04 0.08 0.14 0.16]\n",
      " [0.06 0.12 0.21 0.24]]\n",
      "Max-min composition of R1 and R2:\n",
      "[[0.02 0.04 0.04 0.06]\n",
      " [0.04 0.32 0.08 0.12]\n",
      " [0.04 0.08 0.14 0.16]\n",
      " [0.06 0.12 0.16 0.24]]\n"
     ]
    }
   ],
   "source": [
    "#\n",
    "import numpy as np\n",
    "\n",
    "def union(A, B):\n",
    "    return np.maximum(A, B)\n",
    "\n",
    "def intersection(A, B):\n",
    "    return np.minimum(A, B)\n",
    "\n",
    "def complement(A):\n",
    "    return 1 - A\n",
    "\n",
    "def difference(A, B):\n",
    "    return np.maximum(A - B, 0)\n",
    "\n",
    "def cartesian_product(A, B):\n",
    "    return np.outer(A, B)\n",
    "\n",
    "def max_min_composition(R1, R2):\n",
    "    return np.maximum(np.minimum(R1, R2), 0)\n",
    "\n",
    "A = np.array([0.2, 0.4, 0.7, 0.8])\n",
    "B = np.array([0.1, 0.8, 0.2, 0.3])\n",
    "\n",
    "R1 = cartesian_product(A, B)\n",
    "R2 = cartesian_product(B, A)\n",
    "result = max_min_composition(R1, R2)\n",
    "\n",
    "print(\"Union of A and B:\", union(A, B))\n",
    "print(\"Intersection of A and B:\", intersection(A, B))\n",
    "print(\"Complement of A:\", complement(A))\n",
    "print(\"Difference of A and B:\", difference(A, B))\n",
    "print(f\"Cartesian product of A and B:\\n{R1}\")\n",
    "print(f\"Cartesian product of B and A:\\n{R2}\")\n",
    "print(f\"Max-min composition of R1 and R2:\\n{result}\")\n"
   ]
  },
  {
   "cell_type": "code",
   "execution_count": null,
   "id": "12b298b7-7c46-4f96-a520-899273b29be4",
   "metadata": {},
   "outputs": [],
   "source": []
  }
 ],
 "metadata": {
  "kernelspec": {
   "display_name": "Python 3 (ipykernel)",
   "language": "python",
   "name": "python3"
  },
  "language_info": {
   "codemirror_mode": {
    "name": "ipython",
    "version": 3
   },
   "file_extension": ".py",
   "mimetype": "text/x-python",
   "name": "python",
   "nbconvert_exporter": "python",
   "pygments_lexer": "ipython3",
   "version": "3.11.4"
  }
 },
 "nbformat": 4,
 "nbformat_minor": 5
}
