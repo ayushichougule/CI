{
 "cells": [
  {
   "cell_type": "code",
   "execution_count": 1,
   "id": "4be9562e-7e3a-4d9e-a2ce-6efa33eadfdf",
   "metadata": {},
   "outputs": [
    {
     "name": "stdout",
     "output_type": "stream",
     "text": [
      "Generation 1: Best Solution = 1.19285, Fitness = 1.42289\n",
      "Generation 2: Best Solution = 1.10547, Fitness = 1.22207\n",
      "Generation 3: Best Solution = 0.86720, Fitness = 0.75204\n",
      "Generation 4: Best Solution = 0.81051, Fitness = 0.65693\n",
      "Generation 5: Best Solution = 0.64164, Fitness = 0.41171\n",
      "Generation 6: Best Solution = 0.36688, Fitness = 0.13460\n",
      "Generation 7: Best Solution = 0.25437, Fitness = 0.06470\n",
      "Generation 8: Best Solution = 0.10544, Fitness = 0.01112\n",
      "Generation 9: Best Solution = -0.01252, Fitness = 0.00016\n",
      "Generation 10: Best Solution = -0.00507, Fitness = 0.00003\n",
      "Generation 11: Best Solution = -0.01843, Fitness = 0.00034\n",
      "Generation 12: Best Solution = 0.00346, Fitness = 0.00001\n",
      "Generation 13: Best Solution = 0.00168, Fitness = 0.00000\n",
      "Generation 14: Best Solution = -0.00281, Fitness = 0.00001\n",
      "Generation 15: Best Solution = -0.00765, Fitness = 0.00006\n",
      "Generation 16: Best Solution = 0.00240, Fitness = 0.00001\n",
      "Generation 17: Best Solution = -0.00601, Fitness = 0.00004\n",
      "Generation 18: Best Solution = 0.00261, Fitness = 0.00001\n",
      "Generation 19: Best Solution = 0.00680, Fitness = 0.00005\n",
      "Generation 20: Best Solution = -0.00549, Fitness = 0.00003\n",
      "\n",
      "Final Best Solution: -0.005486146887298059\n"
     ]
    }
   ],
   "source": [
    "import numpy as np\n",
    "\n",
    "def objective_function(x):\n",
    "    return x ** 2\n",
    "\n",
    "def initialize_population(size, lower_bound, upper_bound):\n",
    "    return np.random.uniform(lower_bound, upper_bound, size)\n",
    "\n",
    "def clone(antibodies, num_clones):\n",
    "    return np.repeat(antibodies, num_clones)\n",
    "\n",
    "def hypermutate(clones, mutation_rate):\n",
    "    noise = np.random.normal(0, mutation_rate, clones.shape)\n",
    "    return clones + noise\n",
    "\n",
    "def select_best(population, num_best):\n",
    "    fitness = np.array([objective_function(x) for x in population])\n",
    "    sorted_indices = np.argsort(fitness)\n",
    "    return population[sorted_indices[:num_best]]\n",
    "\n",
    "def clonal_selection_algorithm(pop_size=10, generations=20, clone_factor=5,\n",
    "                                mutation_rate=0.1, lower_bound=-10, upper_bound=10):\n",
    "    population = initialize_population(pop_size, lower_bound, upper_bound)\n",
    "    \n",
    "    for gen in range(generations):\n",
    "        fitness = np.array([objective_function(x) for x in population])\n",
    "        best = select_best(population, pop_size // 2)\n",
    "        clones = clone(best, clone_factor)\n",
    "        mutated_clones = hypermutate(clones, mutation_rate)\n",
    "        new_best = select_best(mutated_clones, pop_size)\n",
    "        population = new_best\n",
    "        \n",
    "        best_solution = population[np.argmin([objective_function(x) for x in population])]\n",
    "        print(f\"Generation {gen + 1}: Best Solution = {best_solution:.5f}, Fitness = {objective_function(best_solution):.5f}\")\n",
    "    \n",
    "    return best_solution\n",
    "\n",
    "best = clonal_selection_algorithm()\n",
    "print(\"\\nFinal Best Solution:\", best)\n"
   ]
  },
  {
   "cell_type": "code",
   "execution_count": null,
   "id": "0c6c93ac-c7e9-4886-844d-7226d4f77f09",
   "metadata": {},
   "outputs": [],
   "source": []
  }
 ],
 "metadata": {
  "kernelspec": {
   "display_name": "Python 3 (ipykernel)",
   "language": "python",
   "name": "python3"
  },
  "language_info": {
   "codemirror_mode": {
    "name": "ipython",
    "version": 3
   },
   "file_extension": ".py",
   "mimetype": "text/x-python",
   "name": "python",
   "nbconvert_exporter": "python",
   "pygments_lexer": "ipython3",
   "version": "3.11.4"
  }
 },
 "nbformat": 4,
 "nbformat_minor": 5
}
